{
 "cells": [
  {
   "cell_type": "markdown",
   "id": "e120e15f",
   "metadata": {},
   "source": [
    "# 🐵 Day 5: Final Project - Jungle Life Game!\n",
    "Let's create a simple jungle simulation game where monkeys follow a daily routine and interact with the jungle and other animals.\n",
    "\n",
    "**Goals:**\n",
    "- Monkeys perform actions like play, sleep, eat 🍌\n",
    "- Make friends with other animals 🐘🦜\n",
    "- Participate in a banana-collecting race 🏁"
   ]
  },
  {
   "cell_type": "code",
   "execution_count": null,
   "id": "2b6c10b4",
   "metadata": {},
   "outputs": [],
   "source": [
    "import random\n",
    "\n",
    "class Monkey:\n",
    "    def __init__(self, name):\n",
    "        self.name = name\n",
    "        self.bananas = 0\n",
    "        self.friends = []\n",
    "    \n",
    "    def play(self):\n",
    "        print(f\"{self.name} is playing in the jungle 🌴\")\n",
    "    \n",
    "    def sleep(self):\n",
    "        print(f\"{self.name} is sleeping 😴\")\n",
    "    \n",
    "    def eat(self):\n",
    "        if self.bananas > 0:\n",
    "            self.bananas -= 1\n",
    "            print(f\"{self.name} ate a banana 🍌\")\n",
    "        else:\n",
    "            print(f\"{self.name} has no bananas to eat!\")\n",
    "    \n",
    "    def make_friend(self, animal):\n",
    "        self.friends.append(animal)\n",
    "        print(f\"{self.name} made a new friend: {animal} 🤝\")"
   ]
  },
  {
   "cell_type": "code",
   "execution_count": null,
   "id": "30d0244a",
   "metadata": {},
   "outputs": [],
   "source": [
    "# Create monkey characters\n",
    "m1 = Monkey(\"Chiku\")\n",
    "m2 = Monkey(\"Momo\")\n",
    "m3 = Monkey(\"Bobo\")"
   ]
  },
  {
   "cell_type": "markdown",
   "id": "9d7da462",
   "metadata": {},
   "source": [
    "## 🗓️ Day Routine: Play, Eat, Sleep, Make Friends"
   ]
  },
  {
   "cell_type": "code",
   "execution_count": null,
   "id": "e76e2435",
   "metadata": {},
   "outputs": [],
   "source": [
    "animals_in_jungle = [\"Elephant 🐘\", \"Parrot 🦜\", \"Deer 🦌\"]\n",
    "\n",
    "for monkey in [m1, m2, m3]:\n",
    "    monkey.play()\n",
    "    monkey.bananas = random.randint(0, 2)\n",
    "    monkey.eat()\n",
    "    monkey.sleep()\n",
    "    friend = random.choice(animals_in_jungle)\n",
    "    monkey.make_friend(friend)\n",
    "    print(\"---\")"
   ]
  },
  {
   "cell_type": "markdown",
   "id": "21449515",
   "metadata": {},
   "source": [
    "## 🏁 Banana Race Game!\n",
    "Each monkey will jump between 5 trees. If the tree has a banana 🍌, they collect it."
   ]
  },
  {
   "cell_type": "code",
   "execution_count": null,
   "id": "2c65c6af",
   "metadata": {},
   "outputs": [],
   "source": [
    "def banana_race(monkeys):\n",
    "    print(\"🏁 The banana race begins!\")\n",
    "    for monkey in monkeys:\n",
    "        monkey.bananas = 0\n",
    "        for i in range(5):\n",
    "            tree_has_banana = random.choice([True, False])\n",
    "            if tree_has_banana:\n",
    "                monkey.bananas += 1\n",
    "                print(f\"{monkey.name} found a banana at tree {i+1} 🍌\")\n",
    "            else:\n",
    "                print(f\"{monkey.name} found no banana at tree {i+1}\")\n",
    "        print(f\"{monkey.name} collected {monkey.bananas} bananas 🏆\\n\")\n",
    "\n",
    "    winner = max(monkeys, key=lambda m: m.bananas)\n",
    "    print(f\"🏆 The winner is {winner.name} with {winner.bananas} bananas!\")"
   ]
  },
  {
   "cell_type": "code",
   "execution_count": null,
   "id": "b3745a9b",
   "metadata": {},
   "outputs": [],
   "source": [
    "# Run the banana race\n",
    "banana_race([m1, m2, m3])"
   ]
  }
 ],
 "metadata": {},
 "nbformat": 4,
 "nbformat_minor": 5
}
