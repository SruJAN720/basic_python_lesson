{
 "cells": [
  {
   "cell_type": "markdown",
   "id": "e05bdf01",
   "metadata": {},
   "source": [
    "# 🐒 Day 2: Jungle Adventure with `for` and `if`\n",
    "Today we'll help a monkey search for bananas in the jungle using `for` loops and `if` conditions!"
   ]
  },
  {
   "cell_type": "code",
   "execution_count": null,
   "id": "adc48310",
   "metadata": {},
   "outputs": [],
   "source": [
    "# 🌴 Monkey looks at all the trees in the jungle\n",
    "trees = [\"mango\", \"banana\", \"coconut\", \"banana\", \"jackfruit\"]\n",
    "for tree in trees:\n",
    "    print(\"Monkey sees a\", tree, \"tree\")"
   ]
  },
  {
   "cell_type": "code",
   "execution_count": null,
   "id": "9a08d441",
   "metadata": {},
   "outputs": [],
   "source": [
    "# 🍌 Monkey eats only bananas!\n",
    "trees = [\"mango\", \"banana\", \"coconut\", \"banana\", \"jackfruit\"]\n",
    "for tree in trees:\n",
    "    if tree == \"banana\":\n",
    "        print(\"Yum! Monkey eats banana from the\", tree, \"tree\")"
   ]
  },
  {
   "cell_type": "code",
   "execution_count": null,
   "id": "792dbf35",
   "metadata": {},
   "outputs": [],
   "source": [
    "# 🧺 Monkey collects bananas in a basket\n",
    "trees = [\"mango\", \"banana\", \"coconut\", \"banana\", \"jackfruit\"]\n",
    "basket = 0\n",
    "for tree in trees:\n",
    "    if tree == \"banana\":\n",
    "        print(\"Banana found! Adding to basket...\")\n",
    "        basket += 1\n",
    "print(\"Monkey collected\", basket, \"bananas!\")"
   ]
  },
  {
   "cell_type": "markdown",
   "id": "b2de1785",
   "metadata": {},
   "source": [
    "## 🎯 Challenge: Help Monkey Find Ripe Bananas!\n",
    "Some bananas are ripe and some are not. Help the monkey collect only ripe bananas."
   ]
  },
  {
   "cell_type": "code",
   "execution_count": null,
   "id": "1cbc933e",
   "metadata": {},
   "outputs": [],
   "source": [
    "fruits = [\n",
    "    {\"type\": \"banana\", \"ripe\": True},\n",
    "    {\"type\": \"mango\", \"ripe\": False},\n",
    "    {\"type\": \"banana\", \"ripe\": False},\n",
    "    {\"type\": \"banana\", \"ripe\": True}\n",
    "]\n",
    "\n",
    "# TODO: Loop through fruits and count only ripe bananas\n",
    "ripe_bananas = 0\n",
    "for fruit in fruits:\n",
    "    if fruit[\"type\"] == \"banana\" and fruit[\"ripe\"]:\n",
    "        print(\"Monkey eats a ripe banana!\")\n",
    "        ripe_bananas += 1\n",
    "\n",
    "print(\"Monkey collected\", ripe_bananas, \"ripe bananas!\")"
   ]
  }
 ],
 "metadata": {},
 "nbformat": 4,
 "nbformat_minor": 5
}
