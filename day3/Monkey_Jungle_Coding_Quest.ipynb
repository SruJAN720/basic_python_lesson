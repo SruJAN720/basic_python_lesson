{
  "cells": [
    {
      "cell_type": "markdown",
      "metadata": {},
      "source": [
        "# \ud83c\udf4c Monkey Jungle Coding Quest (Interactive Notebook)\n",
        "Welcome to your fun Python adventure in the jungle!\n",
        "\n",
        "Each challenge helps our monkey find more bananas and survive the jungle!"
      ]
    },
    {
      "cell_type": "markdown",
      "metadata": {},
      "source": [
        "## \ud83d\udc12 Challenge 1: Banana Counter\n",
        "**Goal:** Count how many bananas the monkey found."
      ]
    },
    {
      "cell_type": "code",
      "execution_count": null,
      "metadata": {},
      "outputs": [],
      "source": [
        "banana_bunches = [3, 5, 2, 7]\n",
        "# TODO: Count the total number of bananas\n",
        "\n",
        "total_bananas = sum(banana_bunches)\n",
        "print(\"Total bananas:\", total_bananas)"
      ]
    },
    {
      "cell_type": "markdown",
      "metadata": {},
      "source": [
        "## \ud83c\udf34 Challenge 2: Jungle Path\n",
        "**Goal:** Count bananas until the monkey hits a trap."
      ]
    },
    {
      "cell_type": "code",
      "execution_count": null,
      "metadata": {},
      "outputs": [],
      "source": [
        "jungle_path = [\"safe\", \"banana\", \"banana\", \"trap\", \"banana\"]\n",
        "\n",
        "bananas = 0\n",
        "for index, spot in enumerate(jungle_path):\n",
        "    if spot == \"trap\":\n",
        "        print(f\"Monkey stopped at tree {index + 1}\")\n",
        "        break\n",
        "    if spot == \"banana\":\n",
        "        bananas += 1\n",
        "\n",
        "print(\"Bananas collected:\", bananas)"
      ]
    },
    {
      "cell_type": "markdown",
      "metadata": {},
      "source": [
        "## \ud83c\udf4c Challenge 3: Banana Map\n",
        "**Goal:** Count total bananas in a jungle grid and print their positions."
      ]
    },
    {
      "cell_type": "code",
      "execution_count": null,
      "metadata": {},
      "outputs": [],
      "source": [
        "grid = [\n",
        "    [\".\", \".\", \"B\"],\n",
        "    [\"B\", \".\", \".\"],\n",
        "    [\".\", \"B\", \".\"]\n",
        "]\n",
        "\n",
        "count = 0\n",
        "for row in range(len(grid)):\n",
        "    for col in range(len(grid[row])):\n",
        "        if grid[row][col] == \"B\":\n",
        "            count += 1\n",
        "            print(f\"Banana at ({row}, {col})\")\n",
        "\n",
        "print(\"Total bananas:\", count)"
      ]
    },
    {
      "cell_type": "markdown",
      "metadata": {},
      "source": [
        "## \ud83e\udde0 Challenge 4: Monkey Memory\n",
        "**Goal:** Find the zone with the most bananas."
      ]
    },
    {
      "cell_type": "code",
      "execution_count": null,
      "metadata": {},
      "outputs": [],
      "source": [
        "banana_zones = {\n",
        "    \"North\": 12,\n",
        "    \"East\": 9,\n",
        "    \"West\": 15,\n",
        "    \"South\": 6\n",
        "}\n",
        "\n",
        "max_zone = max(banana_zones, key=banana_zones.get)\n",
        "print(f\"Zone with most bananas: {max_zone} ({banana_zones[max_zone]})\")"
      ]
    },
    {
      "cell_type": "markdown",
      "metadata": {},
      "source": [
        "## \ud83e\udd8d Challenge 5: Monkey Movement\n",
        "**Goal:** Find final position after moving in the jungle."
      ]
    },
    {
      "cell_type": "code",
      "execution_count": null,
      "metadata": {},
      "outputs": [],
      "source": [
        "def move_monkey(start, moves):\n",
        "    x, y = start\n",
        "    for move in moves:\n",
        "        if move == \"up\": y += 1\n",
        "        elif move == \"down\": y -= 1\n",
        "        elif move == \"left\": x -= 1\n",
        "        elif move == \"right\": x += 1\n",
        "    return (x, y)\n",
        "\n",
        "moves = [\"up\", \"up\", \"left\", \"down\", \"right\"]\n",
        "final_position = move_monkey((0, 0), moves)\n",
        "print(\"Final Position:\", final_position)"
      ]
    }
  ],
  "metadata": {
    "kernelspec": {
      "display_name": "Python 3",
      "language": "python",
      "name": "python3"
    },
    "language_info": {
      "name": "python",
      "version": "3.10"
    }
  },
  "nbformat": 4,
  "nbformat_minor": 5
}