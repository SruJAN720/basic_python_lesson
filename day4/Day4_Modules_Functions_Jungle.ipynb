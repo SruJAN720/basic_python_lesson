{
 "cells": [
  {
   "cell_type": "markdown",
   "id": "3280ce34",
   "metadata": {},
   "source": [
    "# 🐒 Day 4: Jungle Hunt with Modules and Functions\n",
    "Today we'll learn how to use **functions** and **modules** to make our code cleaner. We'll also solve a fun challenge with monkeys and banana trees!"
   ]
  },
  {
   "cell_type": "markdown",
   "id": "3ab5cfd8",
   "metadata": {},
   "source": [
    "## 🔧 Writing Our Own Functions\n",
    "Functions help us reuse code. Let's write a function to create a jungle!"
   ]
  },
  {
   "cell_type": "code",
   "execution_count": null,
   "id": "2cf527c7",
   "metadata": {},
   "outputs": [],
   "source": [
    "import random\n",
    "\n",
    "def create_jungle(rows, cols):\n",
    "    jungle = []\n",
    "    for _ in range(rows):\n",
    "        row = []\n",
    "        for _ in range(cols):\n",
    "            cell = random.choice([\"🍃\", \"🌴\", \"🍌\"])\n",
    "            row.append(cell)\n",
    "        jungle.append(row)\n",
    "    return jungle"
   ]
  },
  {
   "cell_type": "markdown",
   "id": "4af806af",
   "metadata": {},
   "source": [
    "## 🌲 Jungle Symbols:\n",
    "- `🍃` = empty cell\n",
    "- `🌴` = non-fruit tree\n",
    "- `🍌` = banana tree\n"
   ]
  },
  {
   "cell_type": "code",
   "execution_count": null,
   "id": "9663f77c",
   "metadata": {},
   "outputs": [],
   "source": [
    "# Let's create a 5x5 jungle!\n",
    "jungle = create_jungle(5, 5)\n",
    "\n",
    "for row in jungle:\n",
    "    print(\" \".join(row))"
   ]
  },
  {
   "cell_type": "markdown",
   "id": "e7c19d76",
   "metadata": {},
   "source": [
    "## 🍌 Count the Banana Trees\n",
    "We will write another function to count all the banana trees in the jungle."
   ]
  },
  {
   "cell_type": "code",
   "execution_count": null,
   "id": "8fdeba68",
   "metadata": {},
   "outputs": [],
   "source": [
    "def count_banana_trees(jungle):\n",
    "    count = 0\n",
    "    for row in jungle:\n",
    "        count += row.count(\"🍌\")\n",
    "    return count\n",
    "\n",
    "banana_count = count_banana_trees(jungle)\n",
    "print(\"Total banana trees:\", banana_count)"
   ]
  },
  {
   "cell_type": "markdown",
   "id": "e7749c74",
   "metadata": {},
   "source": [
    "## 🧠 Challenge: Is the Jungle Good for Monkeys?\n",
    "**Each monkey needs one banana tree to be happy.**\n\n",
    "Write a function that checks if the jungle has enough banana trees for a given number of monkeys."
   ]
  },
  {
   "cell_type": "code",
   "execution_count": null,
   "id": "3d84c053",
   "metadata": {},
   "outputs": [],
   "source": [
    "def is_jungle_good(jungle, monkeys):\n",
    "    bananas = count_banana_trees(jungle)\n",
    "    if bananas >= monkeys:\n",
    "        return True\n",
    "    else:\n",
    "        return False\n",
    "\n",
    "# Test with 6 monkeys\n",
    "monkey_count = 6\n",
    "result = is_jungle_good(jungle, monkey_count)\n",
    "if result:\n",
    "    print(\"🌟 Jungle is good for monkeys!\")\n",
    "else:\n",
    "    print(\"😟 Not enough bananas for all monkeys!\")"
   ]
  }
 ],
 "metadata": {},
 "nbformat": 4,
 "nbformat_minor": 5
}
